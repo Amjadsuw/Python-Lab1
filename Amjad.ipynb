{
 "cells": [
  {
   "cell_type": "code",
   "execution_count": 5,
   "id": "00533379",
   "metadata": {},
   "outputs": [],
   "source": [
    "m = \"whinter\" "
   ]
  },
  {
   "cell_type": "code",
   "execution_count": 6,
   "id": "54c9752e",
   "metadata": {},
   "outputs": [],
   "source": [
    "x = 2\n",
    "y = 2.3"
   ]
  },
  {
   "cell_type": "code",
   "execution_count": 7,
   "id": "a168dccd",
   "metadata": {},
   "outputs": [],
   "source": [
    "m, f, t = \"red\",\"Blue\",\"yellow\"\n"
   ]
  },
  {
   "cell_type": "code",
   "execution_count": 8,
   "id": "2577d3a5",
   "metadata": {},
   "outputs": [],
   "source": [
    "G = k = O = \"Pink\""
   ]
  },
  {
   "cell_type": "code",
   "execution_count": null,
   "id": "dd6c56be",
   "metadata": {},
   "outputs": [],
   "source": []
  }
 ],
 "metadata": {
  "kernelspec": {
   "display_name": "Python 3 (ipykernel)",
   "language": "python",
   "name": "python3"
  },
  "language_info": {
   "codemirror_mode": {
    "name": "ipython",
    "version": 3
   },
   "file_extension": ".py",
   "mimetype": "text/x-python",
   "name": "python",
   "nbconvert_exporter": "python",
   "pygments_lexer": "ipython3",
   "version": "3.10.9"
  }
 },
 "nbformat": 4,
 "nbformat_minor": 5
}
